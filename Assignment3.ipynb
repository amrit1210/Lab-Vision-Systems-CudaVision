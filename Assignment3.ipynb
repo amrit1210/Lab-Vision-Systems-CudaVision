{
  "nbformat": 4,
  "nbformat_minor": 0,
  "metadata": {
    "colab": {
      "name": "Assignment3.ipynb",
      "version": "0.3.2",
      "provenance": [],
      "collapsed_sections": []
    },
    "kernelspec": {
      "name": "python3",
      "display_name": "Python 3"
    },
    "accelerator": "GPU"
  },
  "cells": [
    {
      "metadata": {
        "id": "u6-l947Qn79O",
        "colab_type": "code",
        "outputId": "74142448-af63-45d0-a064-db5e79e74260",
        "colab": {
          "base_uri": "https://localhost:8080/",
          "height": 54
        }
      },
      "cell_type": "code",
      "source": [
        "# http://pytorch.org/\n",
        "from os.path import exists\n",
        "from wheel.pep425tags import get_abbr_impl, get_impl_ver, get_abi_tag\n",
        "platform = '{}{}-{}'.format(get_abbr_impl(), get_impl_ver(), get_abi_tag())\n",
        "cuda_output = !ldconfig -p|grep cudart.so|sed -e 's/.*\\.\\([0-9]*\\)\\.\\([0-9]*\\)$/cu\\1\\2/'\n",
        "accelerator = cuda_output[0] if exists('/dev/nvidia0') else 'cpu'\n",
        "\n",
        "!pip install -q http://download.pytorch.org/whl/{accelerator}/torch-0.4.1-{platform}-linux_x86_64.whl torchvision\n",
        "import torch"
      ],
      "execution_count": 2,
      "outputs": [
        {
          "output_type": "stream",
          "text": [
            "tcmalloc: large alloc 1073750016 bytes == 0x58f04000 @  0x7f2614de42a4 0x594e17 0x626104 0x51190a 0x4f5277 0x510c78 0x5119bd 0x4f5277 0x4f3338 0x510fb0 0x5119bd 0x4f5277 0x4f3338 0x510fb0 0x5119bd 0x4f5277 0x4f3338 0x510fb0 0x5119bd 0x4f6070 0x510c78 0x5119bd 0x4f5277 0x4f3338 0x510fb0 0x5119bd 0x4f6070 0x4f3338 0x510fb0 0x5119bd 0x4f6070\n"
          ],
          "name": "stdout"
        }
      ]
    },
    {
      "metadata": {
        "id": "jfrwIs-Py-sh",
        "colab_type": "code",
        "colab": {}
      },
      "cell_type": "code",
      "source": [
        "import torch"
      ],
      "execution_count": 0,
      "outputs": []
    },
    {
      "metadata": {
        "id": "EmZ-0QPyzDOH",
        "colab_type": "code",
        "outputId": "5f437c31-e570-4e2f-e122-e0e4f989568f",
        "colab": {
          "base_uri": "https://localhost:8080/",
          "height": 34
        }
      },
      "cell_type": "code",
      "source": [
        "cuda = torch.cuda.is_available()\n",
        "print(cuda)"
      ],
      "execution_count": 4,
      "outputs": [
        {
          "output_type": "stream",
          "text": [
            "True\n"
          ],
          "name": "stdout"
        }
      ]
    },
    {
      "metadata": {
        "id": "dbQdKV5Gzb3c",
        "colab_type": "code",
        "colab": {}
      },
      "cell_type": "code",
      "source": [
        "import torch.nn as nn\n",
        "import torchvision.transforms as transforms\n",
        "import torch.optim as optim\n",
        "import torchvision.datasets as dsets\n",
        "from torch.autograd import Variable\n",
        "import numpy as np\n",
        "import random as rand\n",
        "%matplotlib inline\n",
        "import matplotlib.pyplot as plt\n",
        "import torch.nn.functional as F\n",
        "from sklearn.metrics import confusion_matrix \n",
        "from sklearn.metrics import accuracy_score \n",
        "from sklearn.metrics import classification_report "
      ],
      "execution_count": 0,
      "outputs": []
    },
    {
      "metadata": {
        "id": "OqAh_Ks5pkHI",
        "colab_type": "code",
        "outputId": "66ae6afb-aee3-4d1e-b84b-a9b1fa5bf9b6",
        "colab": {
          "base_uri": "https://localhost:8080/",
          "height": 50
        }
      },
      "cell_type": "code",
      "source": [
        "torch.manual_seed(10)\n",
        "if cuda:\n",
        "  torch.cuda.manual_seed(10)\n",
        "'''\n",
        "LOADING DATASET\n",
        "\n",
        "'''\n",
        "\n",
        "trainset = dsets.CIFAR10('./data', train= True, download= True,transform = transforms.ToTensor())\n",
        "testset = dsets.CIFAR10('./data', train= False, download = True, transform = transforms.ToTensor())"
      ],
      "execution_count": 7,
      "outputs": [
        {
          "output_type": "stream",
          "text": [
            "Files already downloaded and verified\n",
            "Files already downloaded and verified\n"
          ],
          "name": "stdout"
        }
      ]
    },
    {
      "metadata": {
        "id": "caUMnmSNqpuf",
        "colab_type": "code",
        "outputId": "f4c16eeb-400a-4784-e3ec-7f52d2b8482a",
        "colab": {
          "base_uri": "https://localhost:8080/",
          "height": 34
        }
      },
      "cell_type": "code",
      "source": [
        "len(trainset), len(testset), trainset[0][0].size(), trainset[0][1]"
      ],
      "execution_count": 8,
      "outputs": [
        {
          "output_type": "execute_result",
          "data": {
            "text/plain": [
              "(50000, 10000, torch.Size([3, 32, 32]), 6)"
            ]
          },
          "metadata": {
            "tags": []
          },
          "execution_count": 8
        }
      ]
    },
    {
      "metadata": {
        "id": "3oTdn8Dn17EE",
        "colab_type": "code",
        "outputId": "934bb629-bfe3-4ff6-abc2-2f51dc6cac6d",
        "colab": {
          "base_uri": "https://localhost:8080/",
          "height": 34
        }
      },
      "cell_type": "code",
      "source": [
        "CLASSES = ('plane', 'car', 'bird', 'cat', 'deer', 'dog', 'frog', 'horse', 'ship', 'truck')\n",
        "CLASSES[trainset[0][1]]"
      ],
      "execution_count": 9,
      "outputs": [
        {
          "output_type": "execute_result",
          "data": {
            "text/plain": [
              "'frog'"
            ]
          },
          "metadata": {
            "tags": []
          },
          "execution_count": 9
        }
      ]
    },
    {
      "metadata": {
        "id": "F_iv_owp18uF",
        "colab_type": "code",
        "colab": {}
      },
      "cell_type": "code",
      "source": [
        "batch_size = 50\n",
        "train_loader = torch.utils.data.DataLoader(dataset=trainset, batch_size=batch_size, shuffle =True, num_workers =10)\n",
        "test_loader=torch.utils.data.DataLoader(dataset=testset, batch_size=batch_size,shuffle=True,num_workers=10)\n"
      ],
      "execution_count": 0,
      "outputs": []
    },
    {
      "metadata": {
        "id": "OBfz3cwB2WWW",
        "colab_type": "code",
        "colab": {}
      },
      "cell_type": "code",
      "source": [
        "'''\n",
        "CREATE MODEL\n",
        "\n",
        "'''\n",
        "\n",
        "class Net(nn.Module):\n",
        "  def __init__(self):\n",
        "    super(Net,self).__init__()\n",
        "    self.input_hidden1 = nn.Linear(3*32*32,530)\n",
        "    self.input_hidden1_dropout = nn.Dropout(0.2)\n",
        "    self.hidden1_hidden2 = nn.Linear(530,300)\n",
        "    self.hidden1_hidden2_dropout = nn.Dropout(0.2)\n",
        "    self.hidden2_output = nn.Linear(300,10)\n",
        "    \n",
        "  def forward(self, x, activ):\n",
        "    x= x.view(-1,3*32*32) #reshaping the input\n",
        "    x= activ(self.input_hidden1(x))\n",
        "    x= self.input_hidden1_dropout(x)\n",
        "    x= activ(self.hidden1_hidden2(x))\n",
        "    x= self.hidden1_hidden2_dropout(x)\n",
        "    return self.hidden2_output(x)\n",
        "    "
      ],
      "execution_count": 0,
      "outputs": []
    },
    {
      "metadata": {
        "id": "TXDM7Mrd3IPH",
        "colab_type": "code",
        "colab": {}
      },
      "cell_type": "code",
      "source": [
        "model = Net()\n",
        "if cuda:\n",
        "  model.cuda()"
      ],
      "execution_count": 0,
      "outputs": []
    },
    {
      "metadata": {
        "id": "dZZlSaFdKzhv",
        "colab_type": "code",
        "colab": {}
      },
      "cell_type": "code",
      "source": [
        "class CIFAR_MODEL:\n",
        "  def __init__(self, model, learning_rate, optimizer_value, activ, loss_type):\n",
        "    self.model = model\n",
        "    self.lr = learning_rate\n",
        "    \n",
        "    weightdecay = 0\n",
        "    if loss_type == 'l2': #L2 regularization on loss by weightdecay\n",
        "      weightdecay=0.01\n",
        "      \n",
        "    if(optimizer_value == 'sgd'):\n",
        "      self.optimizer = optim.SGD(self.model.parameters(), lr= learning_rate, momentum = 0.9, weight_decay=weightdecay)\n",
        "    elif(optimizer_value == 'adam'):\n",
        "      self.optimizer = optim.Adam(self.model.parameters(), lr= learning_rate, weight_decay = weightdecay)\n",
        "    elif(optimizer_value == 'adagrad'):\n",
        "      self.optimizer = optim.Adagrad(self.model.parameters(), lr= learning_rate, weight_decay = weightdecay )\n",
        "    elif(optimizer_value == 'adadelta'):\n",
        "      self.optimizer = optim.Adadelta(self.model.parameters(), lr= learning_rate, weight_decay = weightdecay)\n",
        "    else:\n",
        "      self.optimizer = optim.RMSprop(self.model.parameters(), lr= learning_rate, weight_decay = weightdecay)\n",
        "    \n",
        "  def train(self, epoch, loss_type, log_interval=100):\n",
        "    model.train()\n",
        "    for batch_idx, (data, target) in enumerate(train_loader):\n",
        "      if cuda:\n",
        "        data,target = data.cuda(), target.cuda()\n",
        "      data, target = Variable(data), Variable(target)\n",
        "      self.optimizer.zero_grad()\n",
        "      output = model(data,activ)\n",
        "      loss = criterion(output, target)\n",
        "      if loss_type == 'l1': #L1 regularisation on loss\n",
        "        nn.L1Loss(loss)\n",
        "      loss.backward()\n",
        "      self.optimizer.step()\n",
        "      if batch_idx % log_interval == 0:\n",
        "            print('Train Epoch: {} [{}/{} ({:.0f}%)]\\tLoss: {:.6f}'.format(\n",
        "                epoch, batch_idx * len(data), len(train_loader.dataset),\n",
        "                100. * batch_idx / len(train_loader), loss.data[0]))\n",
        "    \n",
        "  def test(self, loss_vector, accuracy_vector):\n",
        "    model.eval()\n",
        "    test_loss, correct = 0,0\n",
        "    for (data,target) in test_loader:\n",
        "      if cuda:\n",
        "        data, target = data.cuda(), target.cuda()\n",
        "      data, target = Variable(data, volatile = True), Variable(target)\n",
        "      output = model(data, activ)\n",
        "      prediction = output.data.max(1)[1]\n",
        "      confusionmatrix = confusion_matrix(target,prediction)\n",
        "      test_loss+= criterion(output,target).data[0]\n",
        "      pred = output.data.max(1)[1]\n",
        "      correct+= pred.eq(target.data).cpu().sum()\n",
        "    \n",
        "    test_loss/=len(test_loader)\n",
        "    loss_vector.append(test_loss)\n",
        "    accuracy = 100.*correct/len(test_loader.dataset)\n",
        "    accuracy_vector.append(accuracy)\n",
        "    \n",
        "    print('Confusion_Matrix', confusionmatrix)\n",
        "    print('Accuracy Score :',accuracy_score(target, prediction))\n",
        "    print('\\nTest set: Average loss: {:.4f}, Accuracy: ({:.0f}%)\\n'.format(\n",
        "        test_loss, accuracy))"
      ],
      "execution_count": 0,
      "outputs": []
    },
    {
      "metadata": {
        "id": "d67tu1Pc3NBp",
        "colab_type": "code",
        "colab": {}
      },
      "cell_type": "code",
      "source": [
        "'''\n",
        "INSTANTIATE LOSS CLASS\n",
        "  \n",
        "'''\n",
        "\n",
        "criterion = nn.CrossEntropyLoss()\n",
        "if cuda:\n",
        "  criterion = criterion.cuda()\n",
        "  \n",
        "def softmax(x):\n",
        "  x = x - np.max(x, axis=1).reshape((-1,1))\n",
        "  x = np.exp(x)\n",
        "  return x / np.sum(x, axis=1).reshape((-1, 1))\n",
        "  \n",
        "def hingeloss(x,y):\n",
        "  '''\n",
        "  We were trying to impleent it like this but we were facing some error\n",
        "  return (torch.clamp(torch.mm(y,x)-1,min = 0))\n",
        "  '''\n",
        "  return(max(0, 1-y*x))\n",
        "  \n",
        "def softmax_hingeloss(x,y):\n",
        "  return softmax(x) + hingeloss(x,y)\n",
        "\n"
      ],
      "execution_count": 0,
      "outputs": []
    },
    {
      "metadata": {
        "id": "rUdblWNk3UP6",
        "colab_type": "code",
        "outputId": "aa8d4c6a-cbda-4745-aa56-e9c4b5807749",
        "colab": {
          "base_uri": "https://localhost:8080/",
          "height": 6488
        }
      },
      "cell_type": "code",
      "source": [
        "%%time\n",
        "epochs = 1\n",
        "lossv,accuv = [],[]\n",
        "learning_rate= 0.001\n",
        "loss_type = 'l2'\n",
        "optimizer_list = ['sgd', 'adam', 'adagrad', 'adadelta', 'rmsprop']\n",
        "activation = [F.relu,F.tanh,F.sigmoid]\n",
        "\n",
        "for optimiz in optimizer_list:\n",
        "  for activ in activation:\n",
        "    print('optimizer:',optimiz,'activation function:',activ)\n",
        "    cifar = CIFAR_MODEL(model, learning_rate, optimiz, activ, loss_type)\n",
        "    cifar.train(epoch,loss_type)\n",
        "    cifar.test(lossv,accuv)"
      ],
      "execution_count": 44,
      "outputs": [
        {
          "output_type": "stream",
          "text": [
            "optimizer: sgd activation function: <function relu at 0x7f10ae885048>\n"
          ],
          "name": "stdout"
        },
        {
          "output_type": "stream",
          "text": [
            "/usr/local/lib/python3.6/dist-packages/ipykernel_launcher.py:37: UserWarning: invalid index of a 0-dim tensor. This will be an error in PyTorch 0.5. Use tensor.item() to convert a 0-dim tensor to a Python number\n"
          ],
          "name": "stderr"
        },
        {
          "output_type": "stream",
          "text": [
            "Train Epoch: 1 [0/50000 (0%)]\tLoss: 2.025589\n",
            "Train Epoch: 1 [5000/50000 (10%)]\tLoss: 1.986771\n",
            "Train Epoch: 1 [10000/50000 (20%)]\tLoss: 1.937564\n",
            "Train Epoch: 1 [15000/50000 (30%)]\tLoss: 1.738441\n",
            "Train Epoch: 1 [20000/50000 (40%)]\tLoss: 1.939936\n",
            "Train Epoch: 1 [25000/50000 (50%)]\tLoss: 1.955646\n",
            "Train Epoch: 1 [30000/50000 (60%)]\tLoss: 1.761591\n",
            "Train Epoch: 1 [35000/50000 (70%)]\tLoss: 1.770161\n",
            "Train Epoch: 1 [40000/50000 (80%)]\tLoss: 1.764068\n",
            "Train Epoch: 1 [45000/50000 (90%)]\tLoss: 1.808837\n"
          ],
          "name": "stdout"
        },
        {
          "output_type": "stream",
          "text": [
            "/usr/local/lib/python3.6/dist-packages/ipykernel_launcher.py:45: UserWarning: volatile was removed and now has no effect. Use `with torch.no_grad():` instead.\n",
            "/usr/local/lib/python3.6/dist-packages/ipykernel_launcher.py:49: UserWarning: invalid index of a 0-dim tensor. This will be an error in PyTorch 0.5. Use tensor.item() to convert a 0-dim tensor to a Python number\n"
          ],
          "name": "stderr"
        },
        {
          "output_type": "stream",
          "text": [
            "Confusion_Matrix [[3 0 0 0 0 0 0 1 0 0]\n",
            " [0 3 0 0 0 0 0 0 1 2]\n",
            " [1 0 0 0 3 1 2 1 1 0]\n",
            " [0 0 0 0 0 2 0 0 0 1]\n",
            " [0 0 0 0 1 0 1 1 1 0]\n",
            " [0 0 0 0 1 2 0 0 1 0]\n",
            " [0 0 1 0 0 0 2 1 0 0]\n",
            " [1 0 1 1 1 1 0 1 0 1]\n",
            " [1 0 0 0 0 1 0 0 1 2]\n",
            " [0 0 0 0 0 0 0 0 0 4]]\n",
            "Accuracy Score : 0.34\n",
            "\n",
            "Test set: Average loss: 1.8589, Accuracy: (33%)\n",
            "\n",
            "optimizer: sgd activation function: <function tanh at 0x7f10ae8859d8>\n"
          ],
          "name": "stdout"
        },
        {
          "output_type": "stream",
          "text": [
            "/usr/local/lib/python3.6/dist-packages/torch/nn/functional.py:995: UserWarning: nn.functional.tanh is deprecated. Use torch.tanh instead.\n",
            "  warnings.warn(\"nn.functional.tanh is deprecated. Use torch.tanh instead.\")\n"
          ],
          "name": "stderr"
        },
        {
          "output_type": "stream",
          "text": [
            "Train Epoch: 1 [0/50000 (0%)]\tLoss: 1.886170\n",
            "Train Epoch: 1 [5000/50000 (10%)]\tLoss: 1.827944\n",
            "Train Epoch: 1 [10000/50000 (20%)]\tLoss: 1.645394\n",
            "Train Epoch: 1 [15000/50000 (30%)]\tLoss: 1.897365\n",
            "Train Epoch: 1 [20000/50000 (40%)]\tLoss: 1.964714\n",
            "Train Epoch: 1 [25000/50000 (50%)]\tLoss: 1.786389\n",
            "Train Epoch: 1 [30000/50000 (60%)]\tLoss: 1.963215\n",
            "Train Epoch: 1 [35000/50000 (70%)]\tLoss: 1.894994\n",
            "Train Epoch: 1 [40000/50000 (80%)]\tLoss: 1.990583\n",
            "Train Epoch: 1 [45000/50000 (90%)]\tLoss: 1.750635\n",
            "Confusion_Matrix [[2 0 0 0 0 0 1 0 1 0]\n",
            " [0 3 0 0 0 0 0 0 1 2]\n",
            " [1 1 0 1 3 1 0 0 0 0]\n",
            " [0 0 1 0 0 1 3 0 0 0]\n",
            " [0 0 1 0 3 0 0 0 0 0]\n",
            " [0 0 0 0 3 2 0 0 0 0]\n",
            " [0 0 0 0 0 1 3 1 0 1]\n",
            " [0 0 2 0 0 0 0 2 0 1]\n",
            " [0 0 0 0 0 0 0 0 1 1]\n",
            " [0 1 0 0 1 0 1 0 1 2]]\n",
            "Accuracy Score : 0.36\n",
            "\n",
            "Test set: Average loss: 1.8429, Accuracy: (34%)\n",
            "\n",
            "optimizer: sgd activation function: <function sigmoid at 0x7f10ae885a60>\n"
          ],
          "name": "stdout"
        },
        {
          "output_type": "stream",
          "text": [
            "/usr/local/lib/python3.6/dist-packages/torch/nn/functional.py:1006: UserWarning: nn.functional.sigmoid is deprecated. Use torch.sigmoid instead.\n",
            "  warnings.warn(\"nn.functional.sigmoid is deprecated. Use torch.sigmoid instead.\")\n"
          ],
          "name": "stderr"
        },
        {
          "output_type": "stream",
          "text": [
            "Train Epoch: 1 [0/50000 (0%)]\tLoss: 2.338853\n",
            "Train Epoch: 1 [5000/50000 (10%)]\tLoss: 2.280159\n",
            "Train Epoch: 1 [10000/50000 (20%)]\tLoss: 2.271400\n",
            "Train Epoch: 1 [15000/50000 (30%)]\tLoss: 2.197170\n",
            "Train Epoch: 1 [20000/50000 (40%)]\tLoss: 2.193701\n",
            "Train Epoch: 1 [25000/50000 (50%)]\tLoss: 2.197694\n",
            "Train Epoch: 1 [30000/50000 (60%)]\tLoss: 2.238880\n",
            "Train Epoch: 1 [35000/50000 (70%)]\tLoss: 2.267112\n",
            "Train Epoch: 1 [40000/50000 (80%)]\tLoss: 2.159996\n",
            "Train Epoch: 1 [45000/50000 (90%)]\tLoss: 2.233701\n",
            "Confusion_Matrix [[2 0 0 2 0 0 0 0 1 0]\n",
            " [0 1 0 1 0 1 1 0 0 0]\n",
            " [2 4 0 1 0 0 0 0 1 0]\n",
            " [0 1 0 3 0 1 0 0 0 0]\n",
            " [0 0 0 3 0 2 0 0 0 0]\n",
            " [0 0 0 4 0 2 0 0 0 0]\n",
            " [0 0 0 4 0 1 0 0 0 0]\n",
            " [1 0 0 0 0 1 0 0 0 0]\n",
            " [0 1 0 0 0 1 0 0 3 2]\n",
            " [0 1 0 0 0 0 0 0 0 2]]\n",
            "Accuracy Score : 0.26\n",
            "\n",
            "Test set: Average loss: 2.1779, Accuracy: (25%)\n",
            "\n",
            "optimizer: adam activation function: <function relu at 0x7f10ae885048>\n",
            "Train Epoch: 1 [0/50000 (0%)]\tLoss: 1.998143\n",
            "Train Epoch: 1 [5000/50000 (10%)]\tLoss: 2.044054\n",
            "Train Epoch: 1 [10000/50000 (20%)]\tLoss: 1.852850\n",
            "Train Epoch: 1 [15000/50000 (30%)]\tLoss: 2.018444\n",
            "Train Epoch: 1 [20000/50000 (40%)]\tLoss: 1.926873\n",
            "Train Epoch: 1 [25000/50000 (50%)]\tLoss: 2.120578\n",
            "Train Epoch: 1 [30000/50000 (60%)]\tLoss: 1.986891\n",
            "Train Epoch: 1 [35000/50000 (70%)]\tLoss: 1.990450\n",
            "Train Epoch: 1 [40000/50000 (80%)]\tLoss: 2.074116\n",
            "Train Epoch: 1 [45000/50000 (90%)]\tLoss: 1.877756\n",
            "Confusion_Matrix [[5 1 0 0 0 0 1 2 1 0]\n",
            " [1 0 0 0 0 0 0 1 0 0]\n",
            " [0 1 0 0 0 0 0 0 0 0]\n",
            " [0 0 0 0 0 2 0 0 0 0]\n",
            " [0 0 0 0 2 0 1 0 0 1]\n",
            " [0 0 0 0 0 5 0 0 0 1]\n",
            " [0 0 0 1 0 0 7 0 1 1]\n",
            " [0 0 0 0 1 0 1 1 0 0]\n",
            " [0 1 0 0 0 0 0 0 4 0]\n",
            " [0 2 0 0 0 0 0 0 2 3]]\n",
            "Accuracy Score : 0.54\n",
            "\n",
            "Test set: Average loss: 1.8407, Accuracy: (33%)\n",
            "\n",
            "optimizer: adam activation function: <function tanh at 0x7f10ae8859d8>\n",
            "Train Epoch: 1 [0/50000 (0%)]\tLoss: 2.109192\n",
            "Train Epoch: 1 [5000/50000 (10%)]\tLoss: 1.924467\n",
            "Train Epoch: 1 [10000/50000 (20%)]\tLoss: 1.861311\n",
            "Train Epoch: 1 [15000/50000 (30%)]\tLoss: 2.171391\n",
            "Train Epoch: 1 [20000/50000 (40%)]\tLoss: 2.146205\n",
            "Train Epoch: 1 [25000/50000 (50%)]\tLoss: 1.924711\n",
            "Train Epoch: 1 [30000/50000 (60%)]\tLoss: 1.863862\n",
            "Train Epoch: 1 [35000/50000 (70%)]\tLoss: 1.895303\n",
            "Train Epoch: 1 [40000/50000 (80%)]\tLoss: 1.855944\n",
            "Train Epoch: 1 [45000/50000 (90%)]\tLoss: 2.191704\n",
            "Confusion_Matrix [[1 0 0 0 0 0 0 0 1 0]\n",
            " [1 0 0 0 0 0 2 0 3 0]\n",
            " [2 0 1 0 3 0 1 0 0 0]\n",
            " [1 0 1 0 2 1 0 0 0 0]\n",
            " [0 0 0 0 1 1 0 0 0 0]\n",
            " [2 0 0 0 0 3 0 0 0 0]\n",
            " [0 0 0 0 1 2 1 1 0 0]\n",
            " [1 1 0 0 1 0 1 0 0 0]\n",
            " [3 0 0 0 0 0 0 0 5 0]\n",
            " [3 0 0 0 0 0 0 0 2 1]]\n",
            "Accuracy Score : 0.26\n",
            "\n",
            "Test set: Average loss: 1.9528, Accuracy: (28%)\n",
            "\n",
            "optimizer: adam activation function: <function sigmoid at 0x7f10ae885a60>\n",
            "Train Epoch: 1 [0/50000 (0%)]\tLoss: 2.222956\n",
            "Train Epoch: 1 [5000/50000 (10%)]\tLoss: 2.226747\n",
            "Train Epoch: 1 [10000/50000 (20%)]\tLoss: 2.114682\n",
            "Train Epoch: 1 [15000/50000 (30%)]\tLoss: 2.235713\n",
            "Train Epoch: 1 [20000/50000 (40%)]\tLoss: 2.142164\n",
            "Train Epoch: 1 [25000/50000 (50%)]\tLoss: 2.071359\n",
            "Train Epoch: 1 [30000/50000 (60%)]\tLoss: 2.053380\n",
            "Train Epoch: 1 [35000/50000 (70%)]\tLoss: 2.201478\n",
            "Train Epoch: 1 [40000/50000 (80%)]\tLoss: 2.150783\n",
            "Train Epoch: 1 [45000/50000 (90%)]\tLoss: 2.266831\n",
            "Confusion_Matrix [[0 0 0 0 0 0 0 0 4 0]\n",
            " [0 0 0 0 0 0 0 0 3 0]\n",
            " [0 1 0 0 0 0 2 0 4 0]\n",
            " [0 1 2 0 0 0 0 0 2 0]\n",
            " [0 0 0 0 0 0 2 2 0 0]\n",
            " [1 2 0 0 0 0 1 1 2 0]\n",
            " [0 1 0 0 0 0 1 0 2 0]\n",
            " [0 1 2 0 0 0 2 1 1 0]\n",
            " [0 0 0 0 0 0 0 0 4 0]\n",
            " [1 0 0 0 0 0 0 0 4 0]]\n",
            "Accuracy Score : 0.12\n",
            "\n",
            "Test set: Average loss: 2.1655, Accuracy: (16%)\n",
            "\n",
            "optimizer: adagrad activation function: <function relu at 0x7f10ae885048>\n",
            "Train Epoch: 1 [0/50000 (0%)]\tLoss: 2.909549\n",
            "Train Epoch: 1 [5000/50000 (10%)]\tLoss: 2.024849\n",
            "Train Epoch: 1 [10000/50000 (20%)]\tLoss: 1.891387\n",
            "Train Epoch: 1 [15000/50000 (30%)]\tLoss: 1.992543\n",
            "Train Epoch: 1 [20000/50000 (40%)]\tLoss: 1.975171\n",
            "Train Epoch: 1 [25000/50000 (50%)]\tLoss: 2.146175\n",
            "Train Epoch: 1 [30000/50000 (60%)]\tLoss: 1.883306\n",
            "Train Epoch: 1 [35000/50000 (70%)]\tLoss: 2.010764\n",
            "Train Epoch: 1 [40000/50000 (80%)]\tLoss: 1.850080\n",
            "Train Epoch: 1 [45000/50000 (90%)]\tLoss: 2.200767\n",
            "Confusion_Matrix [[5 1 0 0 0 0 0 0 1 0]\n",
            " [0 1 0 0 0 0 1 0 4 1]\n",
            " [1 0 0 0 0 1 2 0 0 0]\n",
            " [1 1 1 0 0 0 2 1 0 0]\n",
            " [0 0 0 0 0 2 1 0 0 0]\n",
            " [1 1 0 0 0 1 0 0 1 0]\n",
            " [1 0 0 0 0 0 3 0 0 0]\n",
            " [1 0 1 0 0 1 2 2 0 0]\n",
            " [0 0 0 0 0 0 0 0 3 0]\n",
            " [2 0 0 0 0 0 0 0 1 2]]\n",
            "Accuracy Score : 0.34\n",
            "\n",
            "Test set: Average loss: 1.9341, Accuracy: (27%)\n",
            "\n",
            "optimizer: adagrad activation function: <function tanh at 0x7f10ae8859d8>\n",
            "Train Epoch: 1 [0/50000 (0%)]\tLoss: 2.040080\n",
            "Train Epoch: 1 [5000/50000 (10%)]\tLoss: 2.013788\n",
            "Train Epoch: 1 [10000/50000 (20%)]\tLoss: 1.867199\n",
            "Train Epoch: 1 [15000/50000 (30%)]\tLoss: 1.941092\n",
            "Train Epoch: 1 [20000/50000 (40%)]\tLoss: 1.988383\n",
            "Train Epoch: 1 [25000/50000 (50%)]\tLoss: 1.781611\n",
            "Train Epoch: 1 [30000/50000 (60%)]\tLoss: 1.853975\n",
            "Train Epoch: 1 [35000/50000 (70%)]\tLoss: 2.227314\n",
            "Train Epoch: 1 [40000/50000 (80%)]\tLoss: 1.937248\n",
            "Train Epoch: 1 [45000/50000 (90%)]\tLoss: 1.796413\n",
            "Confusion_Matrix [[3 0 0 0 0 0 1 1 2 0]\n",
            " [1 1 0 0 0 0 0 0 2 0]\n",
            " [0 0 0 0 1 0 1 0 0 0]\n",
            " [1 0 0 0 0 0 1 0 0 0]\n",
            " [0 0 0 0 0 1 1 0 1 0]\n",
            " [0 0 1 0 0 4 2 0 1 0]\n",
            " [0 1 0 0 0 2 4 0 0 0]\n",
            " [0 0 2 0 0 0 1 3 0 0]\n",
            " [3 1 0 0 0 0 0 0 3 0]\n",
            " [1 0 0 0 0 0 0 0 0 3]]\n",
            "Accuracy Score : 0.42\n",
            "\n",
            "Test set: Average loss: 1.8664, Accuracy: (32%)\n",
            "\n",
            "optimizer: adagrad activation function: <function sigmoid at 0x7f10ae885a60>\n",
            "Train Epoch: 1 [0/50000 (0%)]\tLoss: 2.312343\n",
            "Train Epoch: 1 [5000/50000 (10%)]\tLoss: 2.178425\n",
            "Train Epoch: 1 [10000/50000 (20%)]\tLoss: 2.189340\n",
            "Train Epoch: 1 [15000/50000 (30%)]\tLoss: 2.085768\n",
            "Train Epoch: 1 [20000/50000 (40%)]\tLoss: 2.065722\n",
            "Train Epoch: 1 [25000/50000 (50%)]\tLoss: 2.060665\n",
            "Train Epoch: 1 [30000/50000 (60%)]\tLoss: 2.029801\n",
            "Train Epoch: 1 [35000/50000 (70%)]\tLoss: 2.033994\n",
            "Train Epoch: 1 [40000/50000 (80%)]\tLoss: 2.022951\n",
            "Train Epoch: 1 [45000/50000 (90%)]\tLoss: 2.160088\n",
            "Confusion_Matrix [[0 0 0 0 0 0 1 0 1 2]\n",
            " [0 3 0 0 0 0 1 0 0 4]\n",
            " [0 0 0 0 0 0 2 0 1 1]\n",
            " [0 1 1 0 0 0 2 0 0 3]\n",
            " [0 1 0 0 0 0 2 0 0 0]\n",
            " [0 2 2 0 1 0 2 0 0 0]\n",
            " [0 1 1 0 0 0 2 0 0 0]\n",
            " [1 1 0 0 0 0 4 0 0 0]\n",
            " [0 0 0 0 0 0 0 0 5 0]\n",
            " [0 0 0 0 0 0 0 0 0 2]]\n",
            "Accuracy Score : 0.24\n",
            "\n",
            "Test set: Average loss: 2.0771, Accuracy: (22%)\n",
            "\n",
            "optimizer: adadelta activation function: <function relu at 0x7f10ae885048>\n",
            "Train Epoch: 1 [0/50000 (0%)]\tLoss: 2.208608\n",
            "Train Epoch: 1 [5000/50000 (10%)]\tLoss: 2.140072\n",
            "Train Epoch: 1 [10000/50000 (20%)]\tLoss: 2.096023\n",
            "Train Epoch: 1 [15000/50000 (30%)]\tLoss: 2.046687\n",
            "Train Epoch: 1 [20000/50000 (40%)]\tLoss: 2.013730\n",
            "Train Epoch: 1 [25000/50000 (50%)]\tLoss: 1.894156\n",
            "Train Epoch: 1 [30000/50000 (60%)]\tLoss: 2.062540\n",
            "Train Epoch: 1 [35000/50000 (70%)]\tLoss: 1.987069\n",
            "Train Epoch: 1 [40000/50000 (80%)]\tLoss: 1.983768\n",
            "Train Epoch: 1 [45000/50000 (90%)]\tLoss: 2.111542\n",
            "Confusion_Matrix [[1 0 1 0 0 0 0 0 0 1]\n",
            " [1 1 0 0 1 0 0 1 0 1]\n",
            " [1 0 0 0 1 0 2 0 0 0]\n",
            " [1 0 0 0 2 1 1 0 0 0]\n",
            " [1 0 0 0 0 0 0 0 0 0]\n",
            " [2 1 0 0 2 1 1 0 0 0]\n",
            " [0 0 1 0 4 0 2 0 0 1]\n",
            " [3 0 0 0 1 0 2 1 0 1]\n",
            " [2 0 0 0 1 0 0 0 2 0]\n",
            " [0 1 0 0 0 0 0 0 0 3]]\n",
            "Accuracy Score : 0.22\n",
            "\n",
            "Test set: Average loss: 2.0109, Accuracy: (25%)\n",
            "\n",
            "optimizer: adadelta activation function: <function tanh at 0x7f10ae8859d8>\n",
            "Train Epoch: 1 [0/50000 (0%)]\tLoss: 3.658132\n",
            "Train Epoch: 1 [5000/50000 (10%)]\tLoss: 2.938946\n",
            "Train Epoch: 1 [10000/50000 (20%)]\tLoss: 2.389567\n",
            "Train Epoch: 1 [15000/50000 (30%)]\tLoss: 2.311217\n",
            "Train Epoch: 1 [20000/50000 (40%)]\tLoss: 2.804617\n",
            "Train Epoch: 1 [25000/50000 (50%)]\tLoss: 2.073482\n",
            "Train Epoch: 1 [30000/50000 (60%)]\tLoss: 2.072875\n",
            "Train Epoch: 1 [35000/50000 (70%)]\tLoss: 2.342205\n",
            "Train Epoch: 1 [40000/50000 (80%)]\tLoss: 1.857411\n",
            "Train Epoch: 1 [45000/50000 (90%)]\tLoss: 2.238770\n",
            "Confusion_Matrix [[4 0 0 0 0 0 0 0 0 2]\n",
            " [1 0 1 0 0 0 0 0 0 6]\n",
            " [2 0 0 0 0 0 3 1 1 0]\n",
            " [0 0 0 0 2 0 1 2 0 0]\n",
            " [0 0 0 0 2 0 2 0 0 0]\n",
            " [0 0 0 0 1 1 1 1 1 0]\n",
            " [0 0 0 0 3 0 1 0 0 0]\n",
            " [1 0 2 0 0 0 0 2 0 0]\n",
            " [1 0 0 0 0 0 0 0 1 1]\n",
            " [0 0 0 0 1 0 0 0 0 2]]\n",
            "Accuracy Score : 0.26\n",
            "\n",
            "Test set: Average loss: 2.0799, Accuracy: (25%)\n",
            "\n",
            "optimizer: adadelta activation function: <function sigmoid at 0x7f10ae885a60>\n",
            "Train Epoch: 1 [0/50000 (0%)]\tLoss: 2.219235\n",
            "Train Epoch: 1 [5000/50000 (10%)]\tLoss: 2.286960\n",
            "Train Epoch: 1 [10000/50000 (20%)]\tLoss: 2.207627\n",
            "Train Epoch: 1 [15000/50000 (30%)]\tLoss: 2.150229\n",
            "Train Epoch: 1 [20000/50000 (40%)]\tLoss: 2.276756\n",
            "Train Epoch: 1 [25000/50000 (50%)]\tLoss: 2.125508\n",
            "Train Epoch: 1 [30000/50000 (60%)]\tLoss: 2.166186\n",
            "Train Epoch: 1 [35000/50000 (70%)]\tLoss: 2.215436\n",
            "Train Epoch: 1 [40000/50000 (80%)]\tLoss: 2.155065\n",
            "Train Epoch: 1 [45000/50000 (90%)]\tLoss: 2.144230\n",
            "Confusion_Matrix [[3 1 0 1 0 0 0 0 1 3]\n",
            " [0 2 0 0 0 1 0 0 0 2]\n",
            " [1 0 1 0 1 0 2 0 0 0]\n",
            " [0 3 1 0 0 1 2 0 0 0]\n",
            " [0 1 0 0 0 0 1 0 0 0]\n",
            " [0 0 2 0 0 3 2 0 1 0]\n",
            " [0 2 0 1 0 0 4 0 0 0]\n",
            " [0 1 0 0 0 1 2 0 0 1]\n",
            " [0 1 0 0 0 0 0 0 0 0]\n",
            " [0 1 0 0 0 0 0 0 0 0]]\n",
            "Accuracy Score : 0.26\n",
            "\n",
            "Test set: Average loss: 2.1251, Accuracy: (23%)\n",
            "\n",
            "optimizer: rmsprop activation function: <function relu at 0x7f10ae885048>\n",
            "Train Epoch: 1 [0/50000 (0%)]\tLoss: 1.846964\n",
            "Train Epoch: 1 [5000/50000 (10%)]\tLoss: 2.135573\n",
            "Train Epoch: 1 [10000/50000 (20%)]\tLoss: 2.702550\n",
            "Train Epoch: 1 [15000/50000 (30%)]\tLoss: 2.005185\n",
            "Train Epoch: 1 [20000/50000 (40%)]\tLoss: 2.039078\n",
            "Train Epoch: 1 [25000/50000 (50%)]\tLoss: 1.923730\n",
            "Train Epoch: 1 [30000/50000 (60%)]\tLoss: 2.017951\n",
            "Train Epoch: 1 [35000/50000 (70%)]\tLoss: 2.185647\n",
            "Train Epoch: 1 [40000/50000 (80%)]\tLoss: 1.926896\n",
            "Train Epoch: 1 [45000/50000 (90%)]\tLoss: 1.904385\n",
            "Confusion_Matrix [[3 0 0 0 1 0 0 1 0 0]\n",
            " [0 5 1 0 0 0 3 0 1 0]\n",
            " [0 0 0 0 2 0 1 2 0 0]\n",
            " [0 1 0 0 1 0 2 1 0 2]\n",
            " [0 0 0 1 0 0 0 1 0 0]\n",
            " [1 0 0 1 0 1 0 1 1 0]\n",
            " [0 0 0 0 2 0 2 0 0 0]\n",
            " [0 1 0 0 1 0 0 2 0 0]\n",
            " [0 0 0 0 0 0 0 1 2 0]\n",
            " [0 0 0 0 0 0 0 2 1 2]]\n",
            "Accuracy Score : 0.34\n",
            "\n",
            "Test set: Average loss: 1.8983, Accuracy: (31%)\n",
            "\n",
            "optimizer: rmsprop activation function: <function tanh at 0x7f10ae8859d8>\n",
            "Train Epoch: 1 [0/50000 (0%)]\tLoss: 2.093846\n",
            "Train Epoch: 1 [5000/50000 (10%)]\tLoss: 2.332108\n",
            "Train Epoch: 1 [10000/50000 (20%)]\tLoss: 2.373259\n",
            "Train Epoch: 1 [15000/50000 (30%)]\tLoss: 2.343693\n",
            "Train Epoch: 1 [20000/50000 (40%)]\tLoss: 2.322578\n",
            "Train Epoch: 1 [25000/50000 (50%)]\tLoss: 2.217895\n",
            "Train Epoch: 1 [30000/50000 (60%)]\tLoss: 2.114328\n",
            "Train Epoch: 1 [35000/50000 (70%)]\tLoss: 2.030307\n",
            "Train Epoch: 1 [40000/50000 (80%)]\tLoss: 2.093411\n",
            "Train Epoch: 1 [45000/50000 (90%)]\tLoss: 2.088821\n",
            "Confusion_Matrix [[0 0 0 0 0 0 0 1 0 2]\n",
            " [0 0 0 0 0 0 0 0 0 4]\n",
            " [0 0 0 0 0 0 4 2 0 3]\n",
            " [0 0 0 0 0 0 2 2 0 2]\n",
            " [0 0 0 0 0 0 3 0 0 2]\n",
            " [0 0 0 0 0 0 3 1 0 0]\n",
            " [0 0 0 0 0 0 3 0 0 2]\n",
            " [0 0 0 0 0 0 1 0 0 0]\n",
            " [0 0 0 0 0 0 0 0 0 7]\n",
            " [0 0 0 0 0 0 0 0 0 6]]\n",
            "Accuracy Score : 0.18\n",
            "\n",
            "Test set: Average loss: 2.1121, Accuracy: (17%)\n",
            "\n",
            "optimizer: rmsprop activation function: <function sigmoid at 0x7f10ae885a60>\n",
            "Train Epoch: 1 [0/50000 (0%)]\tLoss: 2.295575\n",
            "Train Epoch: 1 [5000/50000 (10%)]\tLoss: 2.299237\n",
            "Train Epoch: 1 [10000/50000 (20%)]\tLoss: 2.288490\n",
            "Train Epoch: 1 [15000/50000 (30%)]\tLoss: 2.296809\n",
            "Train Epoch: 1 [20000/50000 (40%)]\tLoss: 2.329011\n",
            "Train Epoch: 1 [25000/50000 (50%)]\tLoss: 2.290666\n",
            "Train Epoch: 1 [30000/50000 (60%)]\tLoss: 2.312702\n",
            "Train Epoch: 1 [35000/50000 (70%)]\tLoss: 2.253078\n",
            "Train Epoch: 1 [40000/50000 (80%)]\tLoss: 2.239212\n",
            "Train Epoch: 1 [45000/50000 (90%)]\tLoss: 2.239431\n",
            "Confusion_Matrix [[ 0  0  1  0  0  1  0  0  0  1]\n",
            " [ 0  0  0  0  0  0  0  0  0  3]\n",
            " [ 0  0  0  0  0  2  0  0  0  3]\n",
            " [ 0  0  2  0  0  1  0  0  0  2]\n",
            " [ 0  0  1  0  0  4  0  0  0  1]\n",
            " [ 0  0  0  0  0  0  0  0  0  2]\n",
            " [ 0  0  2  0  0  6  0  0  0  2]\n",
            " [ 0  0  0  0  0  3  0  0  0  0]\n",
            " [ 0  0  0  0  0  0  0  0  0  2]\n",
            " [ 0  0  0  0  0  0  0  0  0 11]]\n",
            "Accuracy Score : 0.22\n",
            "\n",
            "Test set: Average loss: 2.1902, Accuracy: (16%)\n",
            "\n",
            "CPU times: user 1min 40s, sys: 34.8 s, total: 2min 15s\n",
            "Wall time: 3min 21s\n"
          ],
          "name": "stdout"
        }
      ]
    },
    {
      "metadata": {
        "id": "kN16Cp_thcIz",
        "colab_type": "code",
        "colab": {}
      },
      "cell_type": "code",
      "source": [
        "torch.save(model.state_dict(), \"model_assignment3.th\")"
      ],
      "execution_count": 0,
      "outputs": []
    },
    {
      "metadata": {
        "id": "OCmMqBIIvSZl",
        "colab_type": "code",
        "outputId": "53a3006f-6d1b-4c7a-a6b9-6c21052edb3c",
        "colab": {
          "base_uri": "https://localhost:8080/",
          "height": 134
        }
      },
      "cell_type": "code",
      "source": [
        "the_model = Net()\n",
        "the_model.load_state_dict(torch.load(\"model_assignment3.th\"))\n",
        "print(the_model)\n"
      ],
      "execution_count": 46,
      "outputs": [
        {
          "output_type": "stream",
          "text": [
            "Net(\n",
            "  (input_hidden1): Linear(in_features=3072, out_features=530, bias=True)\n",
            "  (input_hidden1_dropout): Dropout(p=0.2)\n",
            "  (hidden1_hidden2): Linear(in_features=530, out_features=300, bias=True)\n",
            "  (hidden1_hidden2_dropout): Dropout(p=0.2)\n",
            "  (hidden2_output): Linear(in_features=300, out_features=10, bias=True)\n",
            ")\n"
          ],
          "name": "stdout"
        }
      ]
    },
    {
      "metadata": {
        "id": "7f1R5CwhB3lK",
        "colab_type": "code",
        "outputId": "15166b5c-b66c-40bf-dfc4-910c350908ef",
        "colab": {
          "base_uri": "https://localhost:8080/",
          "height": 70
        }
      },
      "cell_type": "code",
      "source": [
        "torch.save(model, \"model_assignment3.th.2\")"
      ],
      "execution_count": 47,
      "outputs": [
        {
          "output_type": "stream",
          "text": [
            "/usr/local/lib/python3.6/dist-packages/torch/serialization.py:241: UserWarning: Couldn't retrieve source code for container of type Net. It won't be checked for correctness upon loading.\n",
            "  \"type \" + obj.__name__ + \". It won't be checked \"\n"
          ],
          "name": "stderr"
        }
      ]
    },
    {
      "metadata": {
        "id": "cPQb1w3EB6EC",
        "colab_type": "code",
        "outputId": "b3908551-4c19-402c-ed0c-e183b2bd74f4",
        "colab": {
          "base_uri": "https://localhost:8080/",
          "height": 134
        }
      },
      "cell_type": "code",
      "source": [
        "the_model2 = torch.load(\"model_assignment3.th.2\")\n",
        "print(the_model2)"
      ],
      "execution_count": 48,
      "outputs": [
        {
          "output_type": "stream",
          "text": [
            "Net(\n",
            "  (input_hidden1): Linear(in_features=3072, out_features=530, bias=True)\n",
            "  (input_hidden1_dropout): Dropout(p=0.2)\n",
            "  (hidden1_hidden2): Linear(in_features=530, out_features=300, bias=True)\n",
            "  (hidden1_hidden2_dropout): Dropout(p=0.2)\n",
            "  (hidden2_output): Linear(in_features=300, out_features=10, bias=True)\n",
            ")\n"
          ],
          "name": "stdout"
        }
      ]
    },
    {
      "metadata": {
        "id": "khkmCdbVC9Cm",
        "colab_type": "code",
        "colab": {}
      },
      "cell_type": "code",
      "source": [
        ""
      ],
      "execution_count": 0,
      "outputs": []
    }
  ]
}